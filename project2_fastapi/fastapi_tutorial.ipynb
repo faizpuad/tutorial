{
 "cells": [
  {
   "cell_type": "code",
   "execution_count": 5,
   "id": "f44c7809",
   "metadata": {},
   "outputs": [],
   "source": [
    "# main.py\n",
    "\n",
    "from fastapi import FastAPI\n",
    "\n",
    "app = FastAPI()\n",
    "\n",
    "@app.get(\"/\")\n",
    "# ## use async def root or def root\n",
    "# async def root():\n",
    "#     return {\"message\": \"Hello World\"}\n",
    "\n",
    "@app.get(\"/items/{item_id}\")\n",
    "async def read_item(item_id: int):\n",
    "    return {\"item_id\": item_id}"
   ]
  },
  {
   "attachments": {},
   "cell_type": "markdown",
   "id": "73f47535",
   "metadata": {},
   "source": [
    "### include json data models using pydantic"
   ]
  },
  {
   "cell_type": "code",
   "execution_count": 6,
   "id": "69977f79",
   "metadata": {},
   "outputs": [],
   "source": [
    "# main.py\n",
    "\n",
    "from typing import Optional\n",
    "\n",
    "from fastapi import FastAPI\n",
    "from pydantic import BaseModel\n",
    "\n",
    "class Item(BaseModel):\n",
    "    name: str\n",
    "    description: Optional[str] = None\n",
    "    price: float\n",
    "    tax: Optional[float] = None\n",
    "\n",
    "app = FastAPI()\n",
    "\n",
    "@app.post(\"/items/\")\n",
    "async def create_item(item: Item):\n",
    "    return item"
   ]
  },
  {
   "attachments": {},
   "cell_type": "markdown",
   "id": "001a3c69",
   "metadata": {},
   "source": [
    "Explore instance of class using python dictionary"
   ]
  },
  {
   "cell_type": "code",
   "execution_count": 7,
   "id": "65600e43",
   "metadata": {},
   "outputs": [],
   "source": [
    "# main.py\n",
    "\n",
    "from typing import Optional\n",
    "\n",
    "from fastapi import FastAPI\n",
    "from pydantic import BaseModel\n",
    "\n",
    "class Item(BaseModel):\n",
    "    name: str\n",
    "    description: Optional[str] = None\n",
    "    price: float\n",
    "    tax: Optional[float] = None\n",
    "\n",
    "app = FastAPI()\n",
    "\n",
    "@app.post(\"/items/\")\n",
    "async def create_item(item: Item):\n",
    "    item_dict = item.dict()\n",
    "    if item.tax:\n",
    "        price_with_tax = item.price + item.tax\n",
    "        item_dict.update({\"price_with_tax\": price_with_tax})\n",
    "    return item_dict"
   ]
  },
  {
   "attachments": {},
   "cell_type": "markdown",
   "id": "16b5cdb9",
   "metadata": {},
   "source": [
    "### Create instance with data validation included"
   ]
  },
  {
   "cell_type": "code",
   "execution_count": 8,
   "id": "3a7c65b3",
   "metadata": {},
   "outputs": [],
   "source": [
    "# main.py\n",
    "\n",
    "from typing import Optional\n",
    "\n",
    "from fastapi import FastAPI\n",
    "from pydantic import BaseModel\n",
    "\n",
    "class Item(BaseModel):\n",
    "    name: str\n",
    "    description: Optional[str] = None\n",
    "    price: float\n",
    "    tax: Optional[float] = None\n",
    "\n",
    "app = FastAPI()\n",
    "\n",
    "@app.put(\"/items/{item_id}\")\n",
    "async def create_item(item_id: int, item: Item):\n",
    "    return {\"item_id\": item_id, **item.dict()}"
   ]
  },
  {
   "attachments": {},
   "cell_type": "markdown",
   "id": "45b6edbb",
   "metadata": {},
   "source": [
    "uvicorn main:app --reload"
   ]
  },
  {
   "attachments": {},
   "cell_type": "markdown",
   "id": "f2e64562",
   "metadata": {},
   "source": [
    "http://127.0.0.1:8000\n",
    "\n",
    "http://127.0.0.1:8000/docs\n",
    "\n",
    "http://127.0.0.1:8000/redoc"
   ]
  },
  {
   "attachments": {},
   "cell_type": "markdown",
   "id": "f5626be5",
   "metadata": {},
   "source": [
    "### Http request method"
   ]
  },
  {
   "attachments": {},
   "cell_type": "markdown",
   "id": "b2c3b354",
   "metadata": {},
   "source": [
    "- @app.post()\n",
    "- @app.put()\n",
    "- @app.delete()\n",
    "- @app.options()\n",
    "- @app.head()\n",
    "- @app.patch()\n",
    "- @app.trace()"
   ]
  },
  {
   "attachments": {},
   "cell_type": "markdown",
   "id": "2af4b4f8",
   "metadata": {},
   "source": []
  }
 ],
 "metadata": {
  "kernelspec": {
   "display_name": "my_env",
   "language": "python",
   "name": "python3"
  },
  "language_info": {
   "codemirror_mode": {
    "name": "ipython",
    "version": 3
   },
   "file_extension": ".py",
   "mimetype": "text/x-python",
   "name": "python",
   "nbconvert_exporter": "python",
   "pygments_lexer": "ipython3",
   "version": "3.11.5"
  }
 },
 "nbformat": 4,
 "nbformat_minor": 5
}
